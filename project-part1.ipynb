{
 "cells": [
  {
   "cell_type": "markdown",
   "source": [
    "# Project - Complex Networks\n",
    "## Part 1\n",
    "Ikram Ul Haq"
   ],
   "metadata": {
    "collapsed": false
   }
  },
  {
   "cell_type": "code",
   "execution_count": 9,
   "outputs": [],
   "source": [
    "from itertools import islice\n",
    "\n",
    "import csv\n",
    "import networkx as nx\n",
    "import matplotlib.pyplot as plt\n",
    "import numpy as np"
   ],
   "metadata": {
    "collapsed": false,
    "ExecuteTime": {
     "end_time": "2024-01-24T21:55:29.876455800Z",
     "start_time": "2024-01-24T21:55:29.498962600Z"
    }
   }
  },
  {
   "cell_type": "markdown",
   "source": [
    "### Function in the following cell will load data from files and create a network using networkx"
   ],
   "metadata": {
    "collapsed": false
   }
  },
  {
   "cell_type": "code",
   "execution_count": 10,
   "outputs": [],
   "source": [
    "def create_network():\n",
    "    \"\"\"\n",
    "    This function reads data from data folder and construct a network.\n",
    "\n",
    "    \"\"\"\n",
    "    with open('data/actors.csv', 'r') as nodecsv:\n",
    "        nodereader = csv.reader(nodecsv)\n",
    "        nodes = [n for n in nodereader][1:]\n",
    "\n",
    "    node_names = [n[0] for n in nodes]\n",
    "\n",
    "    with open('data/actor_edges.csv', 'r') as edgecsv:\n",
    "        edgereader = csv.reader(edgecsv)\n",
    "        edges = [tuple(e) for e in edgereader][1:]\n",
    "\n",
    "    G = nx.Graph()\n",
    "\n",
    "    G.add_nodes_from(node_names)\n",
    "    G.add_edges_from(edges)\n",
    "\n",
    "    role_dict = {}\n",
    "    number_of_movies_dict = {}\n",
    "    birth_dict = {}\n",
    "    awards_dict = {}\n",
    "    nominee_dict = {}\n",
    "\n",
    "    for node in nodes:  # Loop through the list, one row at a time\n",
    "        role_dict[node[0]] = node[1]\n",
    "        number_of_movies_dict[node[0]] = node[2]\n",
    "        birth_dict[node[0]] = node[3]\n",
    "        awards_dict[node[0]] = node[4]\n",
    "        nominee_dict[node[0]] = node[5]\n",
    "\n",
    "    nx.set_node_attributes(G, role_dict, 'role')\n",
    "    nx.set_node_attributes(G, number_of_movies_dict, 'number_of_movies')\n",
    "    nx.set_node_attributes(G, birth_dict, 'date_of_birth')\n",
    "    nx.set_node_attributes(G, awards_dict, 'awards_won')\n",
    "    nx.set_node_attributes(G, nominee_dict, 'awards_nominee')\n",
    "\n",
    "    return G"
   ],
   "metadata": {
    "collapsed": false,
    "ExecuteTime": {
     "end_time": "2024-01-24T21:55:30.136426200Z",
     "start_time": "2024-01-24T21:55:29.517778100Z"
    }
   }
  },
  {
   "cell_type": "markdown",
   "source": [
    "### Creation of Network"
   ],
   "metadata": {
    "collapsed": false
   }
  },
  {
   "cell_type": "code",
   "execution_count": 11,
   "outputs": [
    {
     "name": "stdout",
     "output_type": "stream",
     "text": [
      "Graph with 1790 nodes and 303886 edges\n"
     ]
    }
   ],
   "source": [
    "graph = create_network()\n",
    "print(graph)"
   ],
   "metadata": {
    "collapsed": false,
    "ExecuteTime": {
     "end_time": "2024-01-24T21:55:30.305506700Z",
     "start_time": "2024-01-24T21:55:29.528660500Z"
    }
   }
  },
  {
   "cell_type": "markdown",
   "source": [
    "### Basic Properties"
   ],
   "metadata": {
    "collapsed": false
   }
  },
  {
   "cell_type": "code",
   "execution_count": 12,
   "outputs": [],
   "source": [
    "def calculate_basic_properties(G):\n",
    "    \"\"\"\n",
    "    Function to calculate basic properties of network\n",
    "    \"\"\"\n",
    "\n",
    "    # Handling for disconnected graphs\n",
    "    if nx.is_connected(G):\n",
    "        diameter = nx.diameter(G)\n",
    "    else:\n",
    "        diameter = float('inf')  # or some other representation of undefined\n",
    "\n",
    "    average_neighbor_degrees = nx.average_neighbor_degree(G)\n",
    "    average_neighbor_degree = sum(average_neighbor_degrees.values()) / len(average_neighbor_degrees)\n",
    "\n",
    "    return {\n",
    "        'number_of_nodes': G.number_of_nodes(),\n",
    "        'number_of_edges': G.number_of_edges(),\n",
    "        'is_connected': nx.is_connected(G),\n",
    "        'number_of_componentes': nx.number_connected_components(G),\n",
    "        'average_degree': sum(dict(G.degree()).values()) / G.number_of_nodes(),\n",
    "        'average_neighbour_degree': average_neighbor_degree,\n",
    "        'triadic_closure': nx.transitivity(G),\n",
    "        'density': nx.density(G),\n",
    "        'diameter': diameter\n",
    "    }\n"
   ],
   "metadata": {
    "collapsed": false,
    "ExecuteTime": {
     "end_time": "2024-01-24T21:55:30.313502800Z",
     "start_time": "2024-01-24T21:55:30.210955900Z"
    }
   }
  },
  {
   "cell_type": "code",
   "execution_count": null,
   "outputs": [],
   "source": [
    "calculate_basic_properties(graph)"
   ],
   "metadata": {
    "collapsed": false,
    "is_executing": true,
    "ExecuteTime": {
     "start_time": "2024-01-24T21:55:30.292835200Z"
    }
   }
  },
  {
   "cell_type": "markdown",
   "source": [
    "### Degree Centrality"
   ],
   "metadata": {
    "collapsed": false
   }
  },
  {
   "cell_type": "code",
   "execution_count": null,
   "outputs": [],
   "source": [
    "d_c = nx.degree_centrality(graph)\n",
    "d_c = dict(sorted(d_c.items(), key=lambda item: item[1], reverse=True))\n",
    "\n",
    "for key, value in islice(d_c.items(), 5):\n",
    "    print(f\"{key}: {value}\")"
   ],
   "metadata": {
    "collapsed": false,
    "is_executing": true
   }
  },
  {
   "cell_type": "markdown",
   "source": [
    "### Closeness Centrality"
   ],
   "metadata": {
    "collapsed": false
   }
  },
  {
   "cell_type": "code",
   "execution_count": null,
   "outputs": [],
   "source": [
    "\n",
    "c_c = nx.closeness_centrality(graph)\n",
    "c_c = dict(sorted(c_c.items(), key=lambda item: item[1], reverse=True))\n",
    "\n",
    "for key, value in islice(c_c.items(), 5):\n",
    "    print(f\"{key}: {value}\")"
   ],
   "metadata": {
    "collapsed": false,
    "is_executing": true
   }
  },
  {
   "cell_type": "markdown",
   "source": [
    "### Betweenness Centrality"
   ],
   "metadata": {
    "collapsed": false
   }
  },
  {
   "cell_type": "code",
   "execution_count": null,
   "outputs": [],
   "source": [
    "b_c = nx.betweenness_centrality(graph)\n",
    "\n",
    "b_c = dict(sorted(b_c.items(), key=lambda item: item[1], reverse=True))\n",
    "\n",
    "for key, value in islice(b_c.items(), 5):\n",
    "    print(f\"{key}: {value}\")"
   ],
   "metadata": {
    "collapsed": false,
    "is_executing": true
   }
  },
  {
   "cell_type": "markdown",
   "source": [
    "### Eigenvector Centrality"
   ],
   "metadata": {
    "collapsed": false
   }
  },
  {
   "cell_type": "code",
   "execution_count": null,
   "outputs": [],
   "source": [
    "e_v = nx.eigenvector_centrality(graph)\n",
    "e_v = dict(sorted(e_v.items(), key=lambda item: item[1], reverse=True))\n",
    "\n",
    "for key, value in islice(e_v.items(), 5):\n",
    "    print(f\"{key}: {value}\")"
   ],
   "metadata": {
    "collapsed": false,
    "is_executing": true
   }
  },
  {
   "cell_type": "markdown",
   "source": [
    "### PageRank Centrality"
   ],
   "metadata": {
    "collapsed": false
   }
  },
  {
   "cell_type": "code",
   "execution_count": null,
   "outputs": [],
   "source": [
    "pg_c = nx.pagerank(graph)\n",
    "pg_c = dict(sorted(pg_c.items(), key=lambda item: item[1], reverse=True))\n",
    "\n",
    "for key, value in islice(pg_c.items(), 5):\n",
    "    print(f\"{key}: {value}\")"
   ],
   "metadata": {
    "collapsed": false,
    "is_executing": true
   }
  },
  {
   "cell_type": "code",
   "execution_count": null,
   "outputs": [],
   "source": [
    "for key, value in islice(pg_c.items(), 20):\n",
    "    print(f\"{key}: {value}\")"
   ],
   "metadata": {
    "collapsed": false,
    "is_executing": true
   }
  },
  {
   "cell_type": "code",
   "execution_count": null,
   "outputs": [],
   "source": [
    "graph.degree('Ed Begley Jr.')\n"
   ],
   "metadata": {
    "collapsed": false,
    "is_executing": true
   }
  },
  {
   "cell_type": "markdown",
   "source": [
    "### Comparison of Degree Centrality and CLoseness Centrality"
   ],
   "metadata": {
    "collapsed": false
   }
  },
  {
   "cell_type": "code",
   "execution_count": null,
   "outputs": [],
   "source": [
    "plt.scatter(list(d_c.values()), list(c_c.values()))\n",
    "\n",
    "# Add labels and title\n",
    "plt.xlabel(\"Degree Centrality\")\n",
    "plt.ylabel(\"Closeness Centrality\")\n",
    "plt.title(\"Scatter Plot of Degree vs Closeness Centrality\")\n",
    "\n",
    "# Show the plot\n",
    "plt.show()"
   ],
   "metadata": {
    "collapsed": false,
    "is_executing": true
   }
  },
  {
   "cell_type": "markdown",
   "source": [
    "### Comparison of Closeness and Betweeness Centrality"
   ],
   "metadata": {
    "collapsed": false
   }
  },
  {
   "cell_type": "code",
   "execution_count": null,
   "outputs": [],
   "source": [
    "plt.scatter(list(c_c.values()), list(b_c.values()))\n",
    "\n",
    "# Add labels and title\n",
    "plt.xlabel(\"Closeness Centrality\")\n",
    "plt.ylabel(\"Betweenness Centrality\")\n",
    "plt.title(\"Scatter Plot of Closeness vs Betweenness Centrality\")\n",
    "\n",
    "# Show the plot\n",
    "plt.show()"
   ],
   "metadata": {
    "collapsed": false,
    "is_executing": true
   }
  },
  {
   "cell_type": "markdown",
   "source": [
    "### Range of Centrality Measures"
   ],
   "metadata": {
    "collapsed": false
   }
  },
  {
   "cell_type": "code",
   "execution_count": null,
   "outputs": [],
   "source": [
    "centrality_values = [list(d_c.values()), list(c_c.values()), list(b_c.values()), list(e_v.values()), list(pg_c.values())]\n",
    "\n",
    "plt.figure(figsize=(12, 6))\n",
    "\n",
    "# Create a box plot\n",
    "plt.boxplot(centrality_values, labels=['Degree Centrality', 'Closeness Centrality', 'Betweenness Centrality', 'Eigenvector Centrality', 'PageRank Centrality'])\n",
    "\n",
    "# Add labels and title\n",
    "plt.xlabel(\"Centrality Measure\")\n",
    "plt.ylabel(\"Centrality Value\")\n",
    "plt.title(\"Box Plot of Centrality Measures\")\n",
    "\n",
    "# Show the plot\n",
    "plt.show()"
   ],
   "metadata": {
    "collapsed": false,
    "is_executing": true
   }
  },
  {
   "cell_type": "markdown",
   "source": [
    "### Distribution of Degree Centrality"
   ],
   "metadata": {
    "collapsed": false
   }
  },
  {
   "cell_type": "code",
   "execution_count": null,
   "outputs": [],
   "source": [
    "plt.hist(list(d_c.values()), bins=30, color='salmon', edgecolor='black')\n",
    "plt.title('Degree Centrality Distribution')\n",
    "plt.xlabel('Degree Centrality')\n",
    "plt.ylabel('Frequency')\n",
    "\n",
    "plt.tight_layout()\n",
    "plt.show()"
   ],
   "metadata": {
    "collapsed": false,
    "is_executing": true
   }
  },
  {
   "cell_type": "markdown",
   "source": [
    "### Distribution of Closeness Centrality"
   ],
   "metadata": {
    "collapsed": false
   }
  },
  {
   "cell_type": "code",
   "execution_count": null,
   "outputs": [],
   "source": [
    "plt.hist(list(c_c.values()), bins=30, color='salmon', edgecolor='black')\n",
    "plt.title('Closeness Centrality Distribution')\n",
    "plt.xlabel('Closeness Centrality')\n",
    "plt.ylabel('Frequency')\n",
    "\n",
    "plt.tight_layout()\n",
    "plt.show()"
   ],
   "metadata": {
    "collapsed": false,
    "is_executing": true
   }
  },
  {
   "cell_type": "markdown",
   "source": [
    "### Distribution of Betweeness Centrality"
   ],
   "metadata": {
    "collapsed": false
   }
  },
  {
   "cell_type": "code",
   "execution_count": null,
   "outputs": [],
   "source": [
    "plt.hist(list(b_c.values()), bins=30, color='salmon', edgecolor='black')\n",
    "plt.title('Betweeness Centrality Distribution')\n",
    "plt.xlabel('Betweeness Centrality')\n",
    "plt.ylabel('Frequency')\n",
    "\n",
    "plt.tight_layout()\n",
    "plt.show()"
   ],
   "metadata": {
    "collapsed": false,
    "is_executing": true
   }
  },
  {
   "cell_type": "markdown",
   "source": [
    "### Distribution of Eigen Vector Centrality"
   ],
   "metadata": {
    "collapsed": false
   }
  },
  {
   "cell_type": "code",
   "execution_count": null,
   "outputs": [],
   "source": [
    "plt.hist(list(e_v.values()), bins=30, color='salmon', edgecolor='black')\n",
    "plt.title('Eigen Vector Centrality Distribution')\n",
    "plt.xlabel('Eigen Vector Centrality')\n",
    "plt.ylabel('Frequency')\n",
    "\n",
    "plt.tight_layout()\n",
    "plt.show()"
   ],
   "metadata": {
    "collapsed": false,
    "is_executing": true
   }
  },
  {
   "cell_type": "markdown",
   "source": [
    "### Distribution of PageRank Centrality"
   ],
   "metadata": {
    "collapsed": false
   }
  },
  {
   "cell_type": "code",
   "execution_count": null,
   "outputs": [],
   "source": [
    "plt.hist(list(pg_c.values()), bins=30, color='salmon', edgecolor='black')\n",
    "plt.title('PageRank Centrality Distribution')\n",
    "plt.xlabel('PageRank Centrality')\n",
    "plt.ylabel('Frequency')\n",
    "\n",
    "plt.tight_layout()\n",
    "plt.show()"
   ],
   "metadata": {
    "collapsed": false,
    "is_executing": true
   }
  },
  {
   "cell_type": "markdown",
   "source": [
    "# Degree Distribution"
   ],
   "metadata": {
    "collapsed": false
   }
  },
  {
   "cell_type": "code",
   "execution_count": null,
   "outputs": [],
   "source": [
    "# Calculate degrees\n",
    "degrees = [degree for node, degree in nx.degree(graph)]\n",
    "\n",
    "total_nodes = len(degrees)\n",
    "\n",
    "n, bins, patches = plt.hist(degrees, bins=30, density=True, color='skyblue', edgecolor='black')\n",
    "normalized_bins = bins / total_nodes\n",
    "\n",
    "plt.ylabel('Fraction p_k of nodes with degree k')\n",
    "plt.xlabel('Degree')\n",
    "\n",
    "plt.title('Degree Distribution Histogram')\n",
    "\n",
    "plt.show()"
   ],
   "metadata": {
    "collapsed": false,
    "is_executing": true
   }
  },
  {
   "cell_type": "markdown",
   "source": [
    "### Log Scaled Degree distribution"
   ],
   "metadata": {
    "collapsed": false
   }
  },
  {
   "cell_type": "code",
   "execution_count": null,
   "outputs": [],
   "source": [
    "n, bins, patches = plt.hist(degrees, bins=30, density=True, color='skyblue', edgecolor='black')\n",
    "normalized_bins = bins / total_nodes\n",
    "\n",
    "plt.ylabel('Fraction p_k of nodes with degree k')\n",
    "plt.xlabel('Degree')\n",
    "plt.title('Log-Scaled Degree Distribution Histogram')\n",
    "\n",
    "plt.yscale('log')\n",
    "plt.xscale('log')\n",
    "\n",
    "plt.show()"
   ],
   "metadata": {
    "collapsed": false,
    "is_executing": true
   }
  },
  {
   "cell_type": "markdown",
   "source": [
    "### Fitting Power Law with different values of alpha"
   ],
   "metadata": {
    "collapsed": false
   }
  },
  {
   "cell_type": "code",
   "execution_count": null,
   "outputs": [],
   "source": [
    "plt.hist(degrees, bins=20, color='skyblue', edgecolor='black', label='Empirical Data', log=True)\n",
    "\n",
    "# Define different values of C and alpha for the theoretical power-law distribution\n",
    "C_values = [0.1, 0.2, 0.5]\n",
    "alpha_values = [2.0, 2.5, 3.0]\n",
    "\n",
    "# Overlay the theoretical distributions for different C and alpha\n",
    "x = np.arange(1, max(degrees) + 1)\n",
    "for C in C_values:\n",
    "    for alpha in alpha_values:\n",
    "        y = C * np.power(x, -alpha)\n",
    "        plt.plot(x, y, label=f'Theoretical (C={C}, alpha={alpha})')\n",
    "\n",
    "plt.title('Degree Distribution Comparison')\n",
    "plt.xlabel('Degree (log-scale)')\n",
    "plt.ylabel('Fraction p_k of nodes with degree k(log-scale)')\n",
    "plt.xscale('log')\n",
    "plt.yscale('log')\n",
    "plt.legend()\n",
    "plt.show()"
   ],
   "metadata": {
    "collapsed": false,
    "is_executing": true
   }
  },
  {
   "cell_type": "markdown",
   "source": [
    "### Calculation of alpha"
   ],
   "metadata": {
    "collapsed": false
   }
  },
  {
   "cell_type": "code",
   "execution_count": null,
   "outputs": [],
   "source": [
    "def calculate_alpha(degree_sequence):\n",
    "    k_min = min(degree_sequence)\n",
    "    sum_terms = sum(np.log(k / (k_min - 0.5)) for k in degree_sequence)\n",
    "    n = len(degree_sequence)\n",
    "    alpha = 1 + n / sum_terms\n",
    "    return alpha"
   ],
   "metadata": {
    "collapsed": false,
    "is_executing": true
   }
  },
  {
   "cell_type": "code",
   "execution_count": null,
   "outputs": [],
   "source": [
    "alpha = calculate_alpha(degrees)\n"
   ],
   "metadata": {
    "collapsed": false,
    "is_executing": true
   }
  },
  {
   "cell_type": "markdown",
   "source": [
    "### Plotting degree distribution and power law line with calculated value of alpha"
   ],
   "metadata": {
    "collapsed": false
   }
  },
  {
   "cell_type": "code",
   "execution_count": null,
   "outputs": [],
   "source": [
    "plt.hist(degrees, bins=20, color='skyblue', edgecolor='black', label='Empirical Data', log=True)\n",
    "\n",
    "C = 100000\n",
    "\n",
    "# Overlay the theoretical distributions for different C and alpha\n",
    "x = np.arange(1, max(degrees) + 1)\n",
    "y = C * np.power(x, -alpha)\n",
    "plt.plot(x, y, label=f'Theoretical (C={C}, alpha={alpha})')\n",
    "\n",
    "plt.title('Degree Distribution Comparison')\n",
    "plt.xlabel('Degree (log-scale)')\n",
    "plt.ylabel('Fraction p_k of nodes with degree k (log-scale)')\n",
    "plt.xscale('log')\n",
    "plt.yscale('log')\n",
    "plt.legend()\n",
    "plt.show()"
   ],
   "metadata": {
    "collapsed": false,
    "is_executing": true
   }
  },
  {
   "cell_type": "markdown",
   "source": [
    "### Log scaled and log binned degree distribution"
   ],
   "metadata": {
    "collapsed": false
   }
  },
  {
   "cell_type": "code",
   "execution_count": null,
   "outputs": [],
   "source": [
    "num_bins = 30\n",
    "log_bin_edges = np.logspace(np.log10(min(degrees)), np.log10(max(degrees) + 1), num_bins)\n",
    "\n",
    "# Plot the degree distribution using logarithmic binning\n",
    "n, bins, patches = plt.hist(degrees, bins=log_bin_edges, density=True, color='skyblue', edgecolor='black')\n",
    "normalized_bins = bins / total_nodes\n",
    "\n",
    "plt.ylabel('Fraction p_k of nodes with degree k')\n",
    "plt.xlabel('Degree')\n",
    "plt.title('Log-Scaled Degree Distribution Histogram')\n",
    "\n",
    "# Set the x-axis and y-axis to log scale\n",
    "plt.xscale('log')\n",
    "plt.yscale('log')\n",
    "\n",
    "plt.show()"
   ],
   "metadata": {
    "collapsed": false,
    "is_executing": true
   }
  },
  {
   "cell_type": "markdown",
   "source": [
    "### Commulative degree distribution"
   ],
   "metadata": {
    "collapsed": false
   }
  },
  {
   "cell_type": "code",
   "execution_count": null,
   "outputs": [],
   "source": [
    "# Sort the degrees in ascending order\n",
    "sorted_degrees = sorted(degrees)\n",
    "\n",
    "# Calculate the CDF\n",
    "total_nodes = len(sorted_degrees)\n",
    "cdf = [1 - i / total_nodes for i in range(total_nodes)]\n",
    "\n",
    "# Plot the CDF\n",
    "plt.plot(sorted_degrees, cdf, marker='o', linestyle='-')\n",
    "plt.title('Cumulative Distribution Function')\n",
    "plt.xlabel('Degree k')\n",
    "plt.ylabel('Fraction of Nodes with Degree k or greater')\n",
    "plt.grid()\n",
    "plt.show()"
   ],
   "metadata": {
    "collapsed": false,
    "is_executing": true
   }
  },
  {
   "cell_type": "markdown",
   "source": [
    "### Visualizaiton of some Important Nodes in Network"
   ],
   "metadata": {
    "collapsed": false
   }
  },
  {
   "cell_type": "code",
   "execution_count": null,
   "outputs": [],
   "source": [
    "important_nodes = [node for node, centrality_value in pg_c.items() if centrality_value > 0.0012]\n",
    "len(important_nodes)"
   ],
   "metadata": {
    "collapsed": false,
    "is_executing": true
   }
  },
  {
   "cell_type": "code",
   "execution_count": null,
   "outputs": [],
   "source": [
    "subgraph = graph.subgraph(important_nodes)"
   ],
   "metadata": {
    "collapsed": false,
    "is_executing": true
   }
  },
  {
   "cell_type": "code",
   "execution_count": null,
   "outputs": [],
   "source": [
    "pos = nx.spring_layout(subgraph)  # You can use different layout algorithms\n",
    "plt.figure(figsize=(15,10))\n",
    "nx.draw(subgraph, pos, with_labels=True, node_size=500, node_color=\"skyblue\", font_size=8, font_color=\"black\", font_weight=\"bold\", edge_color=\"gray\", linewidths=0.5)\n",
    "plt.show()"
   ],
   "metadata": {
    "collapsed": false,
    "is_executing": true
   }
  },
  {
   "cell_type": "code",
   "execution_count": null,
   "outputs": [],
   "source": [
    "# Find the diameter of the graph\n",
    "diameter = nx.diameter(graph)\n",
    "\n",
    "print(\"Diameter of the graph:\", diameter)\n",
    "\n",
    "# If you also want to get the nodes along the diameter\n",
    "if diameter > 0:\n",
    "    diameter_path = nx.diameter(graph, e=None)\n",
    "    print(\"Nodes along the diameter:\", diameter_path)"
   ],
   "metadata": {
    "collapsed": false,
    "is_executing": true
   }
  },
  {
   "cell_type": "markdown",
   "source": [
    "### Clustering Coefficient"
   ],
   "metadata": {
    "collapsed": false
   }
  },
  {
   "cell_type": "code",
   "execution_count": null,
   "outputs": [],
   "source": [
    "# Calculate the clustering coefficients for all nodes\n",
    "clustering_coefficients = nx.clustering(graph)\n",
    "\n",
    "# Calculate the mean clustering coefficient\n",
    "mean_clustering_coefficient = nx.average_clustering(graph)\n",
    "\n",
    "# print(f\"Clustering coefficients for each node: {clustering_coefficients}\")\n",
    "print(f\"Mean clustering coefficient: {mean_clustering_coefficient}\")"
   ],
   "metadata": {
    "collapsed": false,
    "is_executing": true
   }
  },
  {
   "cell_type": "markdown",
   "source": [
    "### Find an example path with the lenght equal to diameter = 4"
   ],
   "metadata": {
    "collapsed": false
   }
  },
  {
   "cell_type": "code",
   "execution_count": null,
   "outputs": [],
   "source": [
    "print(\"Diameter of the graph:\", diameter)\n",
    "\n",
    "# Find one of the diameters using the eccentricity of nodes\n",
    "diameter_nodes = [node for node, eccentricity in nx.eccentricity(graph).items() if eccentricity == diameter]\n",
    "\n",
    "# Print the names of nodes along the diameter\n",
    "if diameter_nodes:\n",
    "    print(\"Nodes along the diameter:\")\n",
    "    for node in diameter_nodes:\n",
    "        print(\"Node\", node)"
   ],
   "metadata": {
    "collapsed": false,
    "is_executing": true
   }
  },
  {
   "cell_type": "code",
   "execution_count": null,
   "outputs": [],
   "source": [
    "robert_alpacino_path = nx.shortest_path(graph, source=\"Fred Astaire\", target=\"Mukul Anand\")\n",
    "robert_alpacino_path"
   ],
   "metadata": {
    "collapsed": false,
    "is_executing": true
   }
  },
  {
   "cell_type": "markdown",
   "source": [
    "### Example visualization of Netowkr where Closeness and Pagerank is differnt for different nodes to understand the effect and importance of each centrality measure."
   ],
   "metadata": {
    "collapsed": false
   }
  },
  {
   "cell_type": "code",
   "execution_count": null,
   "outputs": [],
   "source": [
    "important_nodes = [node for node, centrality_value in d_c.items() if centrality_value > 0.212 and centrality_value < 0.216]\n",
    "len(important_nodes)"
   ],
   "metadata": {
    "collapsed": false,
    "is_executing": true
   }
  },
  {
   "cell_type": "code",
   "execution_count": null,
   "outputs": [],
   "source": [
    "subgraph = graph.subgraph(important_nodes)"
   ],
   "metadata": {
    "collapsed": false,
    "is_executing": true
   }
  },
  {
   "cell_type": "code",
   "execution_count": null,
   "outputs": [],
   "source": [
    "pos = nx.spring_layout(subgraph)  # You can use different layout algorithms\n",
    "plt.figure(figsize=(20,8))\n",
    "nx.draw(subgraph, pos, with_labels=True, node_size=1500, node_color=\"skyblue\", font_size=12, font_color=\"black\", font_weight=\"bold\", edge_color=\"gray\", linewidths=0.5)\n",
    "plt.show()"
   ],
   "metadata": {
    "collapsed": false,
    "is_executing": true
   }
  },
  {
   "cell_type": "code",
   "execution_count": null,
   "outputs": [],
   "source": [
    "closeness_centrality = nx.closeness_centrality(subgraph)\n",
    "\n",
    "# Find the node with the highest closeness centrality\n",
    "highest_closeness_node = max(closeness_centrality, key=closeness_centrality.get)\n",
    "\n",
    "print(f\"The node with the highest closeness centrality is: {highest_closeness_node}\")\n",
    "print(f\"Closeness centrality value: {closeness_centrality[highest_closeness_node]}\")"
   ],
   "metadata": {
    "collapsed": false,
    "is_executing": true
   }
  },
  {
   "cell_type": "code",
   "execution_count": null,
   "outputs": [],
   "source": [
    "# Calculate PageRank centrality\n",
    "pagerank_centrality = nx.pagerank(subgraph)\n",
    "\n",
    "# Find the node with the highest PageRank centrality\n",
    "highest_pagerank_node = max(pagerank_centrality, key=pagerank_centrality.get)\n",
    "\n",
    "print(f\"The node with the highest PageRank centrality is: {highest_pagerank_node}\")\n",
    "print(f\"PageRank centrality value: {pagerank_centrality[highest_pagerank_node]}\")"
   ],
   "metadata": {
    "collapsed": false,
    "is_executing": true
   }
  },
  {
   "cell_type": "code",
   "execution_count": null,
   "outputs": [],
   "source": [
    "shortest_path_distance = nx.shortest_path_length(subgraph, source=\"Fred Murphy\", target=\"Neve Campbell\")\n",
    "print(shortest_path_distance)"
   ],
   "metadata": {
    "collapsed": false,
    "is_executing": true
   }
  },
  {
   "cell_type": "code",
   "execution_count": null,
   "outputs": [],
   "source": [
    "shortest_path_distance = nx.shortest_path_length(subgraph, source=\"NoÃ«l Coward\", target=\"Neve Campbell\")\n",
    "print(shortest_path_distance)"
   ],
   "metadata": {
    "collapsed": false,
    "is_executing": true
   }
  },
  {
   "cell_type": "code",
   "execution_count": null,
   "outputs": [],
   "source": [
    "# source_node = \"Fred Murphy\"\n",
    "source_node = \"NoÃ«l Coward\"\n",
    "\n",
    "# Calculate the shortest paths from the source node to all other nodes\n",
    "shortest_paths = nx.shortest_path_length(subgraph, source=source_node)\n",
    "\n",
    "# Print the shortest distances\n",
    "print(f\"Shortest distances from Node {source_node} to all other nodes:\")\n",
    "for node, distance in shortest_paths.items():\n",
    "    print(f\"To Node {node}: {distance}\")\n"
   ],
   "metadata": {
    "collapsed": false,
    "is_executing": true
   }
  },
  {
   "cell_type": "code",
   "execution_count": null,
   "outputs": [],
   "source": [],
   "metadata": {
    "collapsed": false,
    "is_executing": true
   }
  }
 ],
 "metadata": {
  "kernelspec": {
   "display_name": "Python 3",
   "language": "python",
   "name": "python3"
  },
  "language_info": {
   "codemirror_mode": {
    "name": "ipython",
    "version": 2
   },
   "file_extension": ".py",
   "mimetype": "text/x-python",
   "name": "python",
   "nbconvert_exporter": "python",
   "pygments_lexer": "ipython2",
   "version": "2.7.6"
  }
 },
 "nbformat": 4,
 "nbformat_minor": 0
}
